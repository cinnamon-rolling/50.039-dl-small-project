{
 "metadata": {
  "language_info": {
   "codemirror_mode": {
    "name": "ipython",
    "version": 3
   },
   "file_extension": ".py",
   "mimetype": "text/x-python",
   "name": "python",
   "nbconvert_exporter": "python",
   "pygments_lexer": "ipython3",
   "version": "3.9.2-final"
  },
  "orig_nbformat": 2,
  "kernelspec": {
   "name": "python39264bit3288a6173a244cbd8c445323307b9754",
   "display_name": "Python 3.9.2 64-bit",
   "language": "python"
  }
 },
 "nbformat": 4,
 "nbformat_minor": 2,
 "cells": [
  {
   "source": [
    "# Small Project"
   ],
   "cell_type": "markdown",
   "metadata": {}
  },
  {
   "source": [
    "## Inspecting Datasets"
   ],
   "cell_type": "markdown",
   "metadata": {}
  },
  {
   "cell_type": "code",
   "execution_count": 6,
   "metadata": {
    "tags": []
   },
   "outputs": [
    {
     "output_type": "stream",
     "name": "stdout",
     "text": [
      "Dataset directory: dataset/train/normal          \tCount: 1341\nDataset directory: dataset/train/infected/non-covid\tCount: 2530\nDataset directory: dataset/train/infected/covid  \tCount: 1345\nDataset directory: dataset/val/normal            \tCount: 8\nDataset directory: dataset/val/infected/non-covid\tCount: 8\nDataset directory: dataset/val/infected/covid    \tCount: 9\nDataset directory: dataset/test/normal           \tCount: 234\nDataset directory: dataset/test/infected/non-covid\tCount: 242\nDataset directory: dataset/test/infected/covid   \tCount: 139\n"
     ]
    }
   ],
   "source": [
    "import os\n",
    "\n",
    "for root, dirs, files in os.walk(\"dataset\"):\n",
    "    if len(files) > 0:\n",
    "        print(\"Dataset directory: {:30}\\tCount: {}\".format(root, len(files)))"
   ]
  },
  {
   "cell_type": "code",
   "execution_count": null,
   "metadata": {},
   "outputs": [],
   "source": []
  }
 ]
}